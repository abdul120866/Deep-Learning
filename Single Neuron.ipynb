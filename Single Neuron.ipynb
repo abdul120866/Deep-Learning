{
 "cells": [
  {
   "cell_type": "code",
   "execution_count": null,
   "id": "76cefb96",
   "metadata": {},
   "outputs": [
    {
     "name": "stdout",
     "output_type": "stream",
     "text": [
      "Neuron output: [0.81726281]\n"
     ]
    }
   ],
   "source": [
    "import numpy as np\n",
    "\n",
    "class Neuron:\n",
    "    def __init__(self, input_size):\n",
    "        # Initialize weights and bias\n",
    "        self.weights = np.random.rand(input_size)\n",
    "        self.bias = np.random.rand(1)\n",
    "\n",
    "    def sigmoid(self, x):\n",
    "        # Sigmoid activation function\n",
    "        return 1 / (1 + np.exp(-x))\n",
    "\n",
    "    def forward(self, inputs):\n",
    "        # Calculate the weighted sum\n",
    "        z = np.dot(inputs, self.weights) + self.bias\n",
    "        # Apply the activation function\n",
    "        output = self.sigmoid(z)\n",
    "        return output\n",
    "\n",
    "if __name__ == \"__main__\":\n",
    "    # Create a neuron with 5 inputs\n",
    "    neuron = Neuron(input_size=5)\n",
    "    \n",
    "    # Example input\n",
    "    inputs = np.array([0.5, 0.3, 0.2,0.6,0.04])\n",
    "    \n",
    "    # Get the neuron's output\n",
    "    output = neuron.forward(inputs)\n",
    "    print(f\"Neuron output: {output}\")\n"
   ]
  },
  {
   "cell_type": "code",
   "execution_count": null,
   "id": "df4f79b8",
   "metadata": {},
   "outputs": [],
   "source": []
  }
 ],
 "metadata": {
  "kernelspec": {
   "display_name": "Python 3",
   "language": "python",
   "name": "python3"
  },
  "language_info": {
   "codemirror_mode": {
    "name": "ipython",
    "version": 3
   },
   "file_extension": ".py",
   "mimetype": "text/x-python",
   "name": "python",
   "nbconvert_exporter": "python",
   "pygments_lexer": "ipython3",
   "version": "3.12.4"
  }
 },
 "nbformat": 4,
 "nbformat_minor": 5
}
